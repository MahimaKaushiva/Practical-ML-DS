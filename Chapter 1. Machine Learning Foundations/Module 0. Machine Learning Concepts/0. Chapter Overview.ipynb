{
 "cells": [
  {
   "cell_type": "markdown",
   "metadata": {},
   "source": [
    "# Chapter Intro & Overview: ML Foundations"
   ]
  },
  {
   "cell_type": "markdown",
   "metadata": {},
   "source": [
    "## Chapter Content\n",
    "- ML fundamentals\n",
    "    - Linear regression & a 4-part framework for ML algorithms\n",
    "    - Gradient descent\n",
    "    - Bias, variance and generalisation\n",
    "    - Regularisation\n",
    "    - Hyperparameters\n",
    "    - MLE\n",
    "- Other traditional learning algorithms\n",
    "    - Linear regression\n",
    "    - Logistic regression\n",
    "    - Support vector machines\n",
    "    - K-nearest neighbours\n",
    "    - K-means clustering\n",
    "    - DBSCAN\n",
    "    - Classification and regression trees (CARTs)\n",
    "- ensembles"
   ]
  },
  {
   "cell_type": "markdown",
   "metadata": {},
   "source": [
    "## Chapter objectives\n",
    "Understand\n",
    "- What is, and what is not, machine learning\n",
    "- The components of a machine learning algorithm\n",
    "    - data\n",
    "    - models\n",
    "    - criterions\n",
    "    - optimisation\n",
    "- basic model regularisation\n",
    "- basic hyperparameter tuning\n",
    "- the mathematics describing what machine learning is doing, and why\n",
    "- the polychotomy of learning algorithms\n",
    "    - supervised, unsupervised and reinforcement learning\n",
    "    - parametric and non-parametric models\n",
    "    - classification vs regression algorithms\n",
    "- how the most popular traditional (non-neural) models work and what they are good for\n",
    "    - Linear regression\n",
    "    - Logistic regression\n",
    "    - Support vector machines\n",
    "    - K-nearest neighbours\n",
    "    - K-means clustering\n",
    "    - DBSCAN\n",
    "    - Classification and regression trees (CARTs)\n",
    "- ensembles\n",
    "- boosting"
   ]
  },
  {
   "cell_type": "markdown",
   "metadata": {},
   "source": [
    "## So what is machine learning?\n",
    "\n",
    "A machine learning algorithm is one which is able to learn from data to increase it's performance at some task.\n",
    "\n",
    "\"A computer program is said to learn from experience **E** with respect to some class of tasks **T** and performance measure **P**, if its performance at tasks in **T**, as measured by **P**, improves with experience **E**.\" - [Tom Mitchell](http://profsite.um.ac.ir/~monsefi/machine-learning/pdf/Machine-Learning-Tom-Mitchell.pdf)\n",
    "\n",
    "### The task, T\n",
    "- regression - predicting a continuous output\n",
    "- clustering - grouping sets of examples together\n",
    "- machine translation - translating between one language and another\n",
    "- transcription - predicting the words from an audio input\n",
    "- density estimation - predicting a probability distribution\n",
    "- anomaly detection - predicting data that is out of the ordinary distribution of examples\n",
    "- structured output - predicting an output where the values are highly interrelated by arrangement as well as value. For example when producing images, audio or text as an output, the outputs have to seem like realistic examples. This is dependent not only on the values they consist of, but how they are arranged in the output.\n",
    "\n",
    "The word \"predicting\" very well describes the formulation of all of these examples. \n",
    "The task can always be framed as solving a prediction problem, where we have some input and want to predict some output.\n",
    "\n",
    "Because we will be letting our computers do all of the hard work, our inputs and outputs must be represented numerically. \n",
    "Once we have numerical inputs and outputs, we can write mathematical functions that perform this input-output mapping.\n",
    "As such, the bulk of this chapter will be focused on different types of functions, their advantages and disadvantages.\n",
    "\n",
    "Our aim will be to not rigidly define these functions ourself, but to allow our machines to find the transformation to be applied to the input, to produce the correct output, for themselves.\n",
    "\n",
    "![](images/inp-out.jpg)\n",
    "\n",
    "### The performance\n",
    "\n",
    "Given a task, we need to be able to measure how well we are doing. There are many ways of doing this, and the one you should choose often depends on the context of what problem you are trying to solve. \n",
    "\n",
    "Examples of performance measures:\n",
    "- accuracy - how many predictions were correct\n",
    "- error rate - 1-accuracy\n",
    "- mean squared error loss - continous prediction\n",
    "- KL-divergence - dissimilarity between two probability distributions \n",
    "- cross entropy - similar to KL-divergence\n",
    "- BLEU score - measures the quality of translated sentences\n",
    "\n",
    "These performance metrics are easy to evaluate, but in reality they may not convert into the results that you really want. For example, a prediction algorithm that performs perfectly on all examples in your dataset may not generalise well to perform well on other examples. The real challenge is to build algorithms that do what you want, not what you told them to do.\n",
    "\n",
    "### The experience\n",
    "\n",
    "You've probably heard that machine learning algorithms need data. \n",
    "This is the experience that they process. \n",
    "\n",
    "Some datasets contain examples which have labels. In this case, we call the datasets supervised. \n",
    "Datasets containing examples without labels are known as unsupervised.\n",
    "Another paradigm of machine learning, called **reinforcement learning**, considers the case where the algorithm can interact with its environment and collect more experience as it goes. \n",
    "\n",
    "The lines between supervised, unsupervised and reinforcement learning are blurred, and the definitions are loose. An algorithm could perform them in conjunction.\n",
    "\n",
    "## "
   ]
  },
  {
   "cell_type": "markdown",
   "metadata": {},
   "source": [
    "## Summary\n",
    "- Machine learning algorithms use experience to improve their performance on some task\n",
    "- Machine learning is mainly learning mathematical functions that represent the input-output relationships between the features and the labels of some data \n",
    "- ML is canonically split into unsupervised, supervised and reinforcement learning \n",
    "\n",
    "## Next steps\n",
    "- [Linear regression and a framework for machine learning algorithms]()"
   ]
  },
  {
   "cell_type": "code",
   "execution_count": null,
   "metadata": {},
   "outputs": [],
   "source": []
  }
 ],
 "metadata": {
  "kernelspec": {
   "display_name": "Python 3",
   "language": "python",
   "name": "python3"
  },
  "language_info": {
   "codemirror_mode": {
    "name": "ipython",
    "version": 3
   },
   "file_extension": ".py",
   "mimetype": "text/x-python",
   "name": "python",
   "nbconvert_exporter": "python",
   "pygments_lexer": "ipython3",
   "version": "3.7.6"
  }
 },
 "nbformat": 4,
 "nbformat_minor": 2
}

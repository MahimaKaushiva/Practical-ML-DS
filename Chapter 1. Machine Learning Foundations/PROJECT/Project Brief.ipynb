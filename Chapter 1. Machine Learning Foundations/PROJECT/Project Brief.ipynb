{
 "cells": [
  {
   "cell_type": "markdown",
   "metadata": {},
   "source": [
    "# Project 1: Ensemble optimisation using hyperparameter and architecture search\n",
    "\n",
    "## Overview\n",
    "The aim of this project is to get the best performance on a real dataset by combining the techniques that we have learnt throughout this chapter.\n",
    "\n",
    "It is an individual project.\n",
    "\n",
    "The project is due to be submitted midnight 2 weeks from today, before midnight.\n",
    "\n",
    "We will provide 3 dedicated project support sessions, on Saturdays and Wednesdays before the project is due.\n",
    "\n",
    "## Outcome\n",
    "By the end of this project, you should have built an entire pipeline to systematically evaluate and compare different ensembles.\n",
    "It should allow you to find a high performing ensembles and their relevant hyperparameters.  \n",
    "You should even be able to apply this to other problems in the future!\n",
    "\n",
    "## Part 1: Get the wine dataset\n",
    "The aim of the project is to get a high test score on the wine dataset (a public dataset), which is found in the ```DATA``` folder of this chapter. The wine dataset has features of lots of different wines (yes, wines), and the label of each is the quality of the wine.\n",
    "1. Describe the dataset\n",
    "2. Load in the training (```winequality-red-train.csv```) and test (```winequality-red-train.csv```) splits of the dataset.\n",
    "\n",
    "## Part 2: Fit models to the wine dataset and test performance\n",
    "1. Make sure you are comfortable with passing the data through a model.\n",
    "2. Evaluate the performance of the model. Make sure you are testing it on the right set of data.\n",
    "\n",
    "## Part 3: Improve your performance by ensembling some of your models\n",
    "1. Combine the results of more than one model\n",
    "2. Evaluate the performance of the ensemble\n",
    "\n",
    "## Part 4: Write an algorithm to find the best combination of models and hyperparameters.\n",
    "There are an infinite number of ways that you could combine different models with different hyperparameters, but some will perform better than others. \n",
    "1. List the different parameters which you test over, as well as the ranges which you test\n",
    "2. Describe the search procedure which your algorithm implements\n",
    "\n",
    "## Part 5: Present your results\n",
    "Obviously, we need to assess your work. The final part of the project requires you to attempt to summarise your work. It should be clear how we could replicate the results by implementing exactly the same ensemble (models and hyperparameters).\n",
    "\n",
    "1. Please try to communicate and display your results with any graphs or charts. \n",
    "2. If you have any insights into why certain ensembles or models perform better of worse than others, and would like to write a paragraph to explain this, we'd love to read it! \n",
    "3. Please also write a summary paragraph that describes the best permutation that you found.\n",
    "\n",
    "## Part 6: \n",
    "A stakeholder asks you which features most affect the response variable (output).\n",
    "Describe how you would organise a test to determine this.\n",
    "\n",
    "## Extra:\n",
    "Apply your same algorithm and procedure to 2 more datasets. You can find your own dataset online. [Here's](https://archive.ics.uci.edu/ml/datasets.php) a great repository of datasets to start with!"
   ]
  },
  {
   "cell_type": "code",
   "execution_count": null,
   "metadata": {},
   "outputs": [],
   "source": []
  }
 ],
 "metadata": {
  "language_info": {
   "codemirror_mode": {
    "name": "ipython",
    "version": 3
   },
   "file_extension": ".py",
   "mimetype": "text/x-python",
   "name": "python",
   "nbconvert_exporter": "python",
   "pygments_lexer": "ipython3",
   "version": 3
  },
  "orig_nbformat": 2
 },
 "nbformat": 4,
 "nbformat_minor": 2
}
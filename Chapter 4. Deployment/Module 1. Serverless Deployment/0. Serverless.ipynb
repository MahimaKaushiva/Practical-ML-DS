{
 "metadata": {
  "language_info": {
   "codemirror_mode": {
    "name": "ipython",
    "version": 3
   },
   "file_extension": ".py",
   "mimetype": "text/x-python",
   "name": "python",
   "nbconvert_exporter": "python",
   "pygments_lexer": "ipython3",
   "version": 3
  },
  "orig_nbformat": 2
 },
 "nbformat": 4,
 "nbformat_minor": 2,
 "cells": [
  {
   "source": [
    "# Serverless deployment\n",
    "\n",
    "## What is serverless?\n",
    "\n",
    "## AWS Lambda\n",
    "\n",
    "[AWS Lambda ](https://aws.amazon.com/lambda/) is a service that lets you run code in the cloud without having to think about provisioning servers.\n",
    "\n",
    "Instead of running a server with your code in constantly, AWS lambda starts up a computer when you need it, executes your code, and then shuts down the computer. This means you only pay for what you use.\n",
    "\n",
    "Let's create our first lambda function.\n",
    "\n",
    "### Lambda layers\n",
    "\n",
    "Lambda layers are software files that you can include in your lambda functions.\n",
    "\n",
    "Check out this [curated list](https://github.com/mthenw/awesome-layers) of lambda layers.\n",
    "\n",
    "#### SKLearn layer\n",
    "\n",
    "One useful layer is the sklearn layer.\n",
    "\n",
    "We can specify the layers for our \n",
    "\n",
    "## AWS API Gateway\n",
    "\n",
    "### Methods and resources\n",
    "\n",
    "### Making requests to the API\n",
    "\n",
    "### Response headers\n",
    "\n"
   ],
   "cell_type": "markdown",
   "metadata": {}
  },
  {
   "cell_type": "code",
   "execution_count": null,
   "metadata": {},
   "outputs": [],
   "source": []
  }
 ]
}
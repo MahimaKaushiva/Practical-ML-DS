{
 "cells": [
  {
   "cell_type": "markdown",
   "metadata": {
    "id": "fKyXAcU1By3l"
   },
   "source": [
    "# Dropout\n"
   ]
  },
  {
   "cell_type": "markdown",
   "metadata": {
    "id": "ibIqmDynBy3m"
   },
   "source": [
    "### **Prerequisites**\n",
    "* Regularization"
   ]
  },
  {
   "cell_type": "markdown",
   "metadata": {
    "id": "Ffx3HatiBy3n"
   },
   "source": [
    "***What will we cover in this notebook?***\n",
    "\n",
    "* Explaining dropout mathematically and intuitively in neural networks\n",
    "* Implementation in PyTorch\n",
    "* Showing the difference between non-dropout and dropout models\n",
    "* Reviewing some key points\n",
    "\n",
    "[Here's](https://jmlr.org/papers/v15/srivastava14a.html) the original publication introducing dropout."
   ]
  },
  {
   "cell_type": "markdown",
   "metadata": {
    "id": "nijNnGn9By3o"
   },
   "source": [
    "### 1. What is Dropout?\n",
    "\n",
    "According to the paper, \"A motivation for dropout comes from a theory of the role of sex in evolution\". \n",
    "\n",
    "A \"slightly different motivation for dropout comes from thinking\n",
    "about successful conspiracies\"\n",
    "\n",
    "Well then... that's one way to engage the reader 😅"
   ]
  },
  {
   "cell_type": "markdown",
   "metadata": {
    "id": "Ta2uBbb0pYSl"
   },
   "source": [
    "**A brief introduction**"
   ]
  },
  {
   "cell_type": "markdown",
   "metadata": {
    "id": "h_2V_wxBnBCY"
   },
   "source": [
    "A common problem in machine learning is how to increase our model's performance on unseen data. We want to reduce the test error. To achieve this goal, we apply some regularization strategies. Regularization is defined as \"any modification we make to a learning algorithm that is intended to reduce its generalization error but not its training error\". We'll focus on dropout which is one of those strategies."
   ]
  },
  {
   "cell_type": "markdown",
   "metadata": {
    "id": "SVueLeekpGRl"
   },
   "source": [
    "We basically remove (drop out) some neurons in our original network with some probability. You can assume that we shut down some parts of the neural network during every training example and get different models for each one.\n",
    "\n",
    "We don't drop out any of neurons during testing. Because we don't want our output to be a random value. In theory, one thing we could do is drop out some neurons in testing part then take the average of each model. But it will be computationally inefficient!\n"
   ]
  },
  {
   "cell_type": "markdown",
   "metadata": {
    "id": "Dinb15vysEpZ"
   },
   "source": [
    "![drop_imp](images/drop_impl.png)"
   ]
  },
  {
   "cell_type": "markdown",
   "metadata": {
    "id": "mzEeaB17pb8k"
   },
   "source": [
    "**What is the idea behind dropout?**"
   ]
  },
  {
   "cell_type": "markdown",
   "metadata": {
    "id": "DY9r4Ra30cVE"
   },
   "source": [
    "The basic idea of the dropout in neural networks is to prevent overfitting. Sometimes, one part of the networks has large weights and it ends up dominating all the training while the other part of the network doesn't get trained well. We simply turns off some nodes and say, don't pass through here. With this process, we give chance other weak nodes to train as well as the other powerfull ones.\n",
    "\n",
    "We apply this process by giving the algorithm a parameter. This parameter is the probability that each node gets dropped at a particular epoch."
   ]
  },
  {
   "cell_type": "markdown",
   "metadata": {
    "id": "ohJv4mUg_gAY"
   },
   "source": [
    "![drop.gif](images/drop.gif)"
   ]
  },
  {
   "cell_type": "markdown",
   "metadata": {
    "id": "HbY3IF8I_nHg"
   },
   "source": [
    "*https://towardsdatascience.com/preventing-deep-neural-network-from-overfitting-953458db800a*"
   ]
  },
  {
   "cell_type": "markdown",
   "metadata": {
    "id": "CI90VAZcBy3p"
   },
   "source": [
    "### 2. Similarity between dropout and ensembles methods\n"
   ]
  },
  {
   "cell_type": "markdown",
   "metadata": {
    "id": "4QLWrRsgM_JQ"
   },
   "source": [
    "Bagging (short for bootstrap aggregating) is a technique for reducing generalization error by combining several models. The idea is to train several different models separately, then have all of the models vote on the\n",
    "output for test examples. This is an example of a general strategy in machine learning called model averaging. \n",
    "\n",
    "Techniques employing this strategy are known as ensemble methods.\n",
    "The reason that model averaging works is that different models will usually\n",
    "not make all the same errors on the test set."
   ]
  },
  {
   "cell_type": "markdown",
   "metadata": {
    "id": "-naALyf_pDVx"
   },
   "source": [
    "Dropout can be thought of as a method of making bagging practical for ensembles\n",
    "of very many large neural networks."
   ]
  },
  {
   "cell_type": "markdown",
   "metadata": {
    "id": "kHAOhDYsBy3p"
   },
   "source": [
    "Dropout training is not quite the same as bagging training. \n",
    "\n",
    "* In the case of bagging, the models are all independent. \n",
    "\n",
    "* In the case of dropout, the models share parameters, with each model inheriting a different subset of parameters from the parent neural network. This parameter sharing makes it possible to represent an exponential number of models with a tractable amount of memory."
   ]
  },
  {
   "cell_type": "markdown",
   "metadata": {
    "id": "1HeB9TcAUWFQ"
   },
   "source": [
    "* In the case of bagging, each model is trained to convergence on its respective training set. \n",
    "* In the case of dropout, typically most models are not explicitly trained at all—usually, the model is large enough that it would be infeasible to sample all possible subnetworks within the lifetime of the universe."
   ]
  },
  {
   "cell_type": "markdown",
   "metadata": {
    "id": "ncheTzSPUbcy"
   },
   "source": [
    "Beyond these differences, dropout follows the bagging algorithm. For\n",
    "example, the training set encountered by each sub-network is indeed a subset of\n",
    "the original training set sampled with replacement."
   ]
  },
  {
   "cell_type": "markdown",
   "metadata": {
    "id": "eZi27Ls9VFgh"
   },
   "source": [
    "![ensemble](images/ensemble.png)"
   ]
  },
  {
   "cell_type": "markdown",
   "metadata": {
    "id": "66sQs4SKBy3q"
   },
   "source": [
    "### 3. Implementation in PyTorch on a basic neural network "
   ]
  },
  {
   "cell_type": "markdown",
   "metadata": {
    "id": "rDzd2OifT7SI"
   },
   "source": [
    "In this section, we'll explain how we apply dropout in theory and in PyTorch together."
   ]
  },
  {
   "cell_type": "markdown",
   "metadata": {
    "id": "WekPN1TVT7SI"
   },
   "source": [
    "We said that, we set a probability of eliminating a node in the network during training. We do this by creating a mask for each layer. This mask is a binary vector which is "
   ]
  },
  {
   "cell_type": "markdown",
   "metadata": {
    "id": "tJytqea18HcS"
   },
   "source": []
  },
  {
   "cell_type": "code",
   "execution_count": 2,
   "metadata": {
    "id": "nLE1XXVBT7SK"
   },
   "outputs": [],
   "source": [
    "import torch\n",
    "import torch.nn as nn\n",
    "\n",
    "def dropout_layer(X, p):\n",
    "    assert 0 <= p <= 1\n",
    "    # In this case, all elements are dropped out\n",
    "    if p == 1:\n",
    "        return torch.zeros_like(X)\n",
    "    # In this case, all elements are kept\n",
    "    if p == 0:\n",
    "        return X\n",
    "    mask = (torch.Tensor(X.shape).uniform_(0, 1) > p).float()\n",
    "    return mask * X / (1.0 - p)"
   ]
  },
  {
   "cell_type": "markdown",
   "metadata": {
    "id": "ibqpCeDJT7SO"
   },
   "source": [
    "To try the implementation, run the cell below:"
   ]
  },
  {
   "cell_type": "code",
   "execution_count": 3,
   "metadata": {
    "colab": {
     "base_uri": "https://localhost:8080/",
     "height": 230
    },
    "id": "2fi_MOEmT7SP",
    "outputId": "76902015-9e42-4883-81bf-ce588cad4d67"
   },
   "outputs": [
    {
     "output_type": "stream",
     "name": "stdout",
     "text": [
      "Our input vector X:\n",
      " tensor([[ 0.,  1.,  2.,  3.,  4.,  5.,  6.,  7.],\n",
      "        [ 8.,  9., 10., 11., 12., 13., 14., 15.]])\n",
      "If we set probability to 0 and keep every node in the network:\n",
      " tensor([[ 0.,  1.,  2.,  3.,  4.,  5.,  6.,  7.],\n",
      "        [ 8.,  9., 10., 11., 12., 13., 14., 15.]])\n",
      "If we set probability to 0.5 and make half of the nodes \"0\":\n",
      " tensor([[ 0.,  0.,  4.,  6.,  0.,  0., 12.,  0.],\n",
      "        [ 0., 18., 20.,  0.,  0., 26.,  0., 30.]])\n",
      "If we set probability to 1 and drop out every node:\n",
      " tensor([[0., 0., 0., 0., 0., 0., 0., 0.],\n",
      "        [0., 0., 0., 0., 0., 0., 0., 0.]])\n"
     ]
    }
   ],
   "source": [
    "X= torch.arange(16, dtype = torch.float32).reshape((2, 8))\n",
    "print('Our input vector X:\\n',X)\n",
    "print('If we set probability to 0 and keep every node in the network:\\n', dropout_layer(X, 0.))\n",
    "print('If we set probability to 0.5 and make half of the nodes \"0\":\\n', dropout_layer(X, 0.5))\n",
    "print('If we set probability to 1 and drop out every node:\\n', dropout_layer(X, 1.))"
   ]
  },
  {
   "source": [
    "Now, We'll do an implementation with MNIST dataset which is a very popular data and contains 77.000 handwritten digits. Every data points has 28x28 grayscale image and a label (the digit) from 0 to 9. We'll cover non-dropout and dropout models together. Let's do it!\n",
    "* Load and prepare the dataset"
   ],
   "cell_type": "markdown",
   "metadata": {}
  },
  {
   "cell_type": "code",
   "execution_count": 4,
   "metadata": {
    "id": "vWaanIce-v-j"
   },
   "outputs": [],
   "source": [
    "from torchvision import datasets, transforms\n",
    "import sys\n",
    "sys.path.append('..')\n",
    "from utils import get_dataloaders\n",
    "\n",
    "\n",
    "batch_size = 128\n",
    "\n",
    "train_loader, val_loader, test_loader = get_dataloaders(batch_size=batch_size)"
   ]
  },
  {
   "cell_type": "markdown",
   "metadata": {
    "id": "CnJbDQg--9aB"
   },
   "source": [
    "* It's time to create dropout model !"
   ]
  },
  {
   "cell_type": "code",
   "execution_count": 17,
   "metadata": {
    "id": "iYK8iJcB-9E5"
   },
   "outputs": [],
   "source": [
    "import torch.nn.functional as F\n",
    "\n",
    "\n",
    "class NeuralNetworkClass(torch.nn.Module):\n",
    "    def __init__(self): # initialiser\n",
    "        super().__init__() # initialise the parent class\n",
    "        self.layer1 = torch.nn.Linear(784, 1024) # create our first linear layer\n",
    "        self.layer2 = torch.nn.Linear(1024, 256) # create our second linear layer\n",
    "        self.layer3 = torch.nn.Linear(256, 10) # create our third linear layer\n",
    "        \n",
    "    def forward(self, x): # define the forward pass\n",
    "        x = x.view(-1, 784) # flatten out our image features into vectors\n",
    "        x = self.layer1(x) # pass through the first linear layer\n",
    "        x = F.relu(x) # apply activation function\n",
    "        x = self.layer2(x) # pass through the second linear layer\n",
    "        x = F.relu(x) # apply activation function\n",
    "        x = self.layer3(x) # pass through the third linear layer\n",
    "        x = F.softmax(x) # apply activation function\n",
    "        return x # return output\n",
    "\n",
    "\n",
    "\n",
    "# This is our dropout implementation !\n",
    "class NeuralNetworkClassDropout(torch.nn.Module):\n",
    "    def __init__(self):\n",
    "        super().__init__()    # initialise parent module\n",
    "        self.layer1 = torch.nn.Linear(784, 1024) # create our first linear layer\n",
    "        self.layer2 = torch.nn.Linear(1024, 256) # create our second linear layer\n",
    "        self.layer3 = torch.nn.Linear(256, 10) # create our third linear layer\n",
    "        self.dropout1 = nn.Dropout(p=0.2)           # first dropout parameter\n",
    "        self.dropout2 = nn.Dropout(p=0.5)          # second dropout parameter\n",
    "\n",
    "        \n",
    "    def forward(self, x):\n",
    "        x = x.view(-1, 784)     # flatten out our image features into vectors\n",
    "        x = self.layer1(x)\n",
    "        x = F.relu(x)\n",
    "        x = self.dropout1(x)    # apply first dropout after the first layer\n",
    "        x = self.layer2(x)\n",
    "        x = F.relu(x)\n",
    "        x = self.dropout2(x)    # apply second dropout after the second layer\n",
    "        x = self.layer3(x)\n",
    "        x = F.softmax(x, dim=1)\n",
    "        return x\n"
   ]
  },
  {
   "cell_type": "code",
   "execution_count": 18,
   "metadata": {
    "colab": {
     "base_uri": "https://localhost:8080/",
     "height": 52
    },
    "id": "c4nBezZ8_duC",
    "outputId": "082d5c10-e24d-4a50-d2b5-9f2d44ebf7aa"
   },
   "outputs": [],
   "source": [
    "learning_rate = 0.001\n",
    "myNeuralNetwork = NeuralNetworkClass()\n",
    "myNeuralNetworkDropout = NeuralNetworkClassDropout()\n",
    "\n",
    "# CREATE OUR CRITERION\n",
    "criterion = torch.nn.CrossEntropyLoss()             # callable class that compares our predictions to our labels and returns our loss\n",
    "\n",
    "# SET UP TRAINING VISUALISATION\n",
    "from torch.utils.tensorboard import SummaryWriter\n",
    "writer_nond = SummaryWriter(log_dir=\"runs/nondropout\")          # we will use this to show our models performance on a graph\n",
    "writer_d = SummaryWriter(log_dir=\"runs/dropout\")"
   ]
  },
  {
   "cell_type": "markdown",
   "metadata": {
    "id": "S5LhlU3Jdz72"
   },
   "source": [
    "* Training part:\n",
    "\n",
    "We assign \"p\" to represent the probability of a neuron, in the hidden layer, being excluded from the network; this probability value is usually equal to 0.5. We do the same process for the input layer whose probability value is usually lower than 0.5 (e.g. 0.2). Remember, we delete the connections going into, and out of, the neuron when we drop it."
   ]
  },
  {
   "cell_type": "code",
   "execution_count": 19,
   "metadata": {
    "colab": {
     "base_uri": "https://localhost:8080/",
     "height": 904
    },
    "id": "I4_wTxbw_l33",
    "outputId": "5db012d7-7c38-4d2e-9993-d94190d5fb28"
   },
   "outputs": [
    {
     "output_type": "stream",
     "name": "stdout",
     "text": [
      "Non-Dropout Model's Loss\n",
      "Epoch: 1 \tTraining Loss: 204.9869009686248 \tValidation Loss: 193.9748504976683\n",
      "Epoch: 2 \tTraining Loss: 194.29549376251143 \tValidation Loss: 191.26869778693478\n",
      "Epoch: 3 \tTraining Loss: 192.70798980732403 \tValidation Loss: 189.93471570558185\n",
      "Epoch: 4 \tTraining Loss: 191.88436103293964 \tValidation Loss: 189.57923384557796\n",
      "Epoch: 5 \tTraining Loss: 191.32276419910323 \tValidation Loss: 188.88051286528383\n",
      "Epoch: 6 \tTraining Loss: 190.69821810905282 \tValidation Loss: 188.4473654831512\n",
      "Epoch: 7 \tTraining Loss: 190.50860089353284 \tValidation Loss: 188.23027825657326\n",
      "Epoch: 8 \tTraining Loss: 190.03801757539324 \tValidation Loss: 187.99083637285835\n",
      "Epoch: 9 \tTraining Loss: 189.86808993932232 \tValidation Loss: 187.82364507264728\n",
      "Epoch: 10 \tTraining Loss: 189.624215104086 \tValidation Loss: 187.65174976783462\n"
     ]
    },
    {
     "output_type": "display_data",
     "data": {
      "text/plain": "<Figure size 432x288 with 1 Axes>",
      "image/png": "[encoded data removed]"
     },
     "metadata": {
      "needs_background": "light"
     }
    },
    {
     "output_type": "stream",
     "name": "stdout",
     "text": [
      "Dropout Model's Loss\n",
      "Epoch: 1 \tTraining Loss: 206.79480313644996 \tValidation Loss: 194.28621666340888\n",
      "Epoch: 2 \tTraining Loss: 194.62347679430871 \tValidation Loss: 191.51693138895155\n",
      "Epoch: 3 \tTraining Loss: 192.63905684722354 \tValidation Loss: 190.07541299168068\n",
      "Epoch: 4 \tTraining Loss: 191.79880947591093 \tValidation Loss: 189.76985395407374\n",
      "Epoch: 5 \tTraining Loss: 191.15274794205376 \tValidation Loss: 188.8528586761861\n",
      "Epoch: 6 \tTraining Loss: 190.67964348951568 \tValidation Loss: 188.53111015995847\n",
      "Epoch: 7 \tTraining Loss: 190.33451114469173 \tValidation Loss: 188.4248839028274\n",
      "Epoch: 8 \tTraining Loss: 190.06319793837758 \tValidation Loss: 187.91865054263343\n",
      "Epoch: 9 \tTraining Loss: 189.92674022196505 \tValidation Loss: 187.53442938116532\n",
      "Epoch: 10 \tTraining Loss: 189.71777881807682 \tValidation Loss: 187.59368976158433\n"
     ]
    },
    {
     "output_type": "display_data",
     "data": {
      "text/plain": "<Figure size 432x288 with 1 Axes>",
      "image/png": "[encoded data removed]"
     },
     "metadata": {
      "needs_background": "light"
     }
    }
   ],
   "source": [
    "import matplotlib.pyplot as plt\n",
    "\n",
    "# TRAINING LOOP\n",
    "def train(model, epochs, writer, verbose=True):\n",
    "    model.train()                                  # put the model into training mode (more on this later)\n",
    "    losses_train = []\n",
    "    losses_val = []\n",
    "    for epoch in range(epochs):\n",
    "        running_loss_train = 0.0\n",
    "        for idx, minibatch in enumerate(train_loader):\n",
    "            inputs, labels = minibatch\n",
    "            prediction = model(inputs)             # pass the data forward through the model\n",
    "            loss = criterion(prediction, labels)   # compute the loss\n",
    "            # CREATE OUR OPTIMISER\n",
    "            optimiser = torch.optim.Adam(          # what optimiser should we use?\n",
    "            model.parameters(),                    # what should it optimise?\n",
    "            lr=learning_rate                       # using what learning rate?\n",
    "            )\n",
    "            optimiser.zero_grad()                  # reset the gradients attribute of each of the model's params to zero\n",
    "            loss.backward()                        # backward pass to compute and set all of the model param's gradients\n",
    "            optimiser.step()                       # update the model's parameters\n",
    "            writer.add_scalar('Loss/Train', loss, epoch*len(train_loader) + idx)    # write loss to a graph\n",
    "            running_loss_train += loss.item() * inputs.size(0)\n",
    "\n",
    "        model.eval()\n",
    "        running_loss_val = 0.0\n",
    "        for idx, minibatch in enumerate(val_loader):\n",
    "            inputs, labels = minibatch\n",
    "            prediction = model(inputs)             # pass the data forward through the model\n",
    "            loss = criterion(prediction, labels)   # compute the loss\n",
    "            # CREATE OUR OPTIMISER\n",
    "            optimiser = torch.optim.Adam(          # what optimiser should we use?\n",
    "            model.parameters(),                    # what should it optimise?\n",
    "            lr=learning_rate                       # using what learning rate?\n",
    "            )\n",
    "            optimiser.zero_grad()                  # reset the gradients attribute of each of the model's params to zero\n",
    "            loss.backward()                        # backward pass to compute and set all of the model param's gradients\n",
    "            optimiser.step()                       # update the model's parameters\n",
    "            writer.add_scalar('Loss/Validation', loss, epoch*len(val_loader) + idx)    # write loss to a graph\n",
    "            running_loss_val += loss.item() * inputs.size(0)\n",
    "\n",
    "        epoch_loss_train = running_loss_train / len(train_loader)\n",
    "        losses_train.append(epoch_loss_train)\n",
    "\n",
    "        epoch_loss_val = running_loss_val / len(val_loader)\n",
    "        losses_val.append(epoch_loss_val)\n",
    "\n",
    "        print('Epoch:', epoch+1, '\\tTraining Loss:', epoch_loss_train, '\\tValidation Loss:', epoch_loss_val)\n",
    "\n",
    "    plt.plot(losses_train,'b-', label='Training loss')\n",
    "    plt.plot(losses_val, 'r-', label='Validation loss')\n",
    "    plt.legend()\n",
    "    plt.show()\n",
    "\n",
    "\n",
    "print(\"Non-Dropout Model's Loss\")\n",
    "train(myNeuralNetwork, 10, writer=writer_nond)\n",
    "print(\"Dropout Model's Loss\")           \n",
    "train(myNeuralNetworkDropout, 10, writer=writer_d)"
   ]
  },
  {
   "cell_type": "markdown",
   "metadata": {
    "id": "W8IfN5_D_pJ_"
   },
   "source": [
    "* Evaluate our two models:"
   ]
  },
  {
   "cell_type": "code",
   "execution_count": 20,
   "metadata": {
    "colab": {
     "base_uri": "https://localhost:8080/",
     "height": 176
    },
    "id": "hm68nUMR_ogn",
    "outputId": "eca1abff-1e5b-4f00-a1bf-a4b7ce6258c8"
   },
   "outputs": [
    {
     "output_type": "stream",
     "name": "stdout",
     "text": [
      "Non-Dropout Model's Evaluation:\n",
      "Train Accuracy: 97.992\n",
      "Validation Accuracy: 98.22999999999999\n",
      "Test Accuracy: 97.28\n",
      "\n",
      "Dropout Model's Evaluation:\n",
      "Train Accuracy: 97.892\n",
      "Validation Accuracy: 98.28\n",
      "Test Accuracy: 97.35000000000001\n"
     ]
    }
   ],
   "source": [
    "def calc_accuracy(model, dataloader):\n",
    "    num_correct = 0\n",
    "    num_examples = len(dataloader.dataset)              # test DATA not test LOADER\n",
    "    for inputs, labels in dataloader:                   # for all exampls, over all mini-batches in the test dataset\n",
    "        predictions = model(inputs)\n",
    "        predictions = torch.max(predictions, axis=1)    # reduce to find max indices along direction which column varies\n",
    "        predictions = predictions[1]                    # torch.max returns (values, indices)\n",
    "        num_correct += int(sum(predictions == labels))\n",
    "    percent_correct = num_correct / num_examples * 100\n",
    "    return percent_correct\n",
    "\n",
    "print(\"Non-Dropout Model's Evaluation:\")\n",
    "print('Train Accuracy:', calc_accuracy(myNeuralNetwork, train_loader))\n",
    "print('Validation Accuracy:', calc_accuracy(myNeuralNetwork, val_loader))\n",
    "print('Test Accuracy:', calc_accuracy(myNeuralNetwork, test_loader))\n",
    "\n",
    "print(\"\\nDropout Model's Evaluation:\")\n",
    "print('Train Accuracy:', calc_accuracy(myNeuralNetworkDropout, train_loader))\n",
    "print('Validation Accuracy:', calc_accuracy(myNeuralNetworkDropout, val_loader))\n",
    "print('Test Accuracy:', calc_accuracy(myNeuralNetworkDropout, test_loader))\n"
   ]
  },
  {
   "cell_type": "markdown",
   "metadata": {
    "id": "zXXhGic2HyYb"
   },
   "source": [
    "### 4. Visualizing the difference between a non-dropout and dropout implemented nn\n"
   ]
  },
  {
   "cell_type": "markdown",
   "metadata": {
    "id": "hO4vX-NGZkuf"
   },
   "source": [
    "![train_loss_comp.png](images/train_loss_comp.png)"
   ]
  },
  {
   "cell_type": "markdown",
   "metadata": {
    "id": "JtLxAls2JrLn"
   },
   "source": [
    "As we see above, our model's loss curves are converged. They perform very good on training data, but it is poor on test data. So that means, we have an overfitting problem.\n",
    "\n",
    "We tried a dropout model and saw that test accuracy increased."
   ]
  },
  {
   "cell_type": "markdown",
   "metadata": {
    "id": "iSM_9Y0JehuV"
   },
   "source": [
    "* Non-Dropout Model Test Accuracy: 97.28\n",
    "* Dropout Model Test Accuracy: 97.35000000000001"
   ]
  },
  {
   "cell_type": "markdown",
   "metadata": {
    "id": "SV25hg2NdaWu"
   },
   "source": [
    "**What to do while testing?**\n",
    "\n"
   ]
  },
  {
   "cell_type": "markdown",
   "metadata": {
    "id": "aSYOGP4bBy4B"
   },
   "source": [
    "### 5. Summary\n",
    "\n",
    "* Dropout means turning off some neurons in our network with some probability.\n",
    "* Dropout helps us to prevent overfitting.\n",
    "* Dropout follows the bagging algorithm. The training set encountered by each sub-network is indeed a subset of the original training set sampled with replacement. This is the similarity between ensemble models and dropout method.\n",
    "* Dropout is only used during training.\n"
   ]
  },
  {
   "cell_type": "markdown",
   "metadata": {
    "id": "QBQ_028yBy4C"
   },
   "source": [
    "### 6. What to do next?\n",
    "* Try to change the dropout parameters and see its effect on training loss and accuracy\n",
    "* Try to combine dropout with other regularization methods and compare model's performances\n",
    "* What is the ideal dropout probability rate for different layers? How to choose it? Do some research on the internet, check out the papers and articles."
   ]
  }
 ],
 "metadata": {
  "accelerator": "GPU",
  "colab": {
   "collapsed_sections": [],
   "name": "Dropout.ipynb",
   "provenance": []
  },
  "kernelspec": {
   "display_name": "Python 3",
   "language": "python",
   "name": "python3"
  },
  "language_info": {
   "codemirror_mode": {
    "name": "ipython",
    "version": 3
   },
   "file_extension": ".py",
   "mimetype": "text/x-python",
   "name": "python",
   "nbconvert_exporter": "python",
   "pygments_lexer": "ipython3",
   "version": "3.7.3-final"
  }
 },
 "nbformat": 4,
 "nbformat_minor": 1
}